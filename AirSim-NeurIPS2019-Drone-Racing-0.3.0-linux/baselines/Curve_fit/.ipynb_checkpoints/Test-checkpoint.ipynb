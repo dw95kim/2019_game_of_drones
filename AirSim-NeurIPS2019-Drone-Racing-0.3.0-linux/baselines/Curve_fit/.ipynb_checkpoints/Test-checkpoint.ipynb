{
 "cells": [
  {
   "cell_type": "code",
   "execution_count": 4,
   "metadata": {},
   "outputs": [],
   "source": [
    "f1 = open(\"tuning_1.txt\", 'r')\n",
    "f2 = open(\"tuning_2.txt\", 'r')\n",
    "f3 = open(\"tuning_3.txt\", 'r')\n",
    "f4 = open(\"tuning_4.txt\", 'r')\n",
    "f5 = open(\"tuning_5.txt\", 'r')\n",
    "\n",
    "f6 = open(\"tuning_6.txt\", 'r')\n",
    "f7 = open(\"tuning_7.txt\", 'r')\n",
    "f8 = open(\"tuning_8.txt\", 'r')\n",
    "f9 = open(\"tuning_9.txt\", 'r')\n",
    "f10 = open(\"tuning_10.txt\", 'r')"
   ]
  },
  {
   "cell_type": "code",
   "execution_count": 5,
   "metadata": {},
   "outputs": [],
   "source": [
    "lines_1 = f1.readlines()\n",
    "lines_2 = f2.readlines()\n",
    "lines_3 = f3.readlines()\n",
    "lines_4 = f4.readlines()\n",
    "lines_5 = f5.readlines()\n",
    "\n",
    "lines_6 = f6.readlines()\n",
    "lines_7 = f7.readlines()\n",
    "lines_8 = f8.readlines()\n",
    "lines_9 = f9.readlines()\n",
    "lines_10 = f10.readlines()"
   ]
  },
  {
   "cell_type": "code",
   "execution_count": 6,
   "metadata": {},
   "outputs": [],
   "source": [
    "line = [lines_1, lines_2, lines_3, lines_4, lines_5,\n",
    "       lines_6, lines_7, lines_8, lines_9, lines_10]"
   ]
  },
  {
   "cell_type": "code",
   "execution_count": 7,
   "metadata": {},
   "outputs": [],
   "source": [
    "dis = [0, 0, 0, 0, 0,\n",
    "    0, 0, 0, 0, 0,\n",
    "    0, 0, 0, 0]\n",
    "\n",
    "ang = [0, 0, 0, 0, 0,\n",
    "    0, 0, 0, 0, 0,\n",
    "    0, 0, 0, 0]"
   ]
  },
  {
   "cell_type": "code",
   "execution_count": 43,
   "metadata": {},
   "outputs": [],
   "source": [
    "for lines in line:\n",
    "    for i in range(len(lines)):\n",
    "        c = lines_1[i].split()\n",
    "        dis[i] += float(str(c[0]))\n",
    "        ang[i] += float(str(c[1][:-1]))"
   ]
  },
  {
   "cell_type": "code",
   "execution_count": 44,
   "metadata": {},
   "outputs": [],
   "source": [
    "for i in range(len(dis)):\n",
    "    dis[i] = dis[i]/5\n",
    "    ang[i] = ang[i]/5"
   ]
  },
  {
   "cell_type": "code",
   "execution_count": 46,
   "metadata": {},
   "outputs": [
    {
     "data": {
      "text/plain": [
       "([3.586002028813828,\n",
       "  4.450243829411268,\n",
       "  8.753403323081725,\n",
       "  9.013667388523652,\n",
       "  11.919529782864688,\n",
       "  4.679830569179091,\n",
       "  25.50254451161689,\n",
       "  9.705352590558523,\n",
       "  7.050912524601176,\n",
       "  6.914963603517627,\n",
       "  6.561147782257864,\n",
       "  10.698329019940488,\n",
       "  9.591461852567317,\n",
       "  7.48746485978467],\n",
       " [0.5104249895477381,\n",
       "  2.9944026313981724,\n",
       "  21.450545274649176,\n",
       "  -13.585666386229207,\n",
       "  -9.892843516871086,\n",
       "  -71.17126819468474,\n",
       "  -22.71255283147745,\n",
       "  -33.5179094290131,\n",
       "  -15.06114459748287,\n",
       "  4.483165986537534,\n",
       "  -36.31739227137366,\n",
       "  -5.716657121084144,\n",
       "  -69.53636567735381,\n",
       "  4.3885117459666985])"
      ]
     },
     "execution_count": 46,
     "metadata": {},
     "output_type": "execute_result"
    }
   ],
   "source": [
    "dis, ang"
   ]
  },
  {
   "cell_type": "code",
   "execution_count": null,
   "metadata": {},
   "outputs": [],
   "source": []
  }
 ],
 "metadata": {
  "kernelspec": {
   "display_name": "Python 3",
   "language": "python",
   "name": "python3"
  },
  "language_info": {
   "codemirror_mode": {
    "name": "ipython",
    "version": 3
   },
   "file_extension": ".py",
   "mimetype": "text/x-python",
   "name": "python",
   "nbconvert_exporter": "python",
   "pygments_lexer": "ipython3",
   "version": "3.7.5"
  }
 },
 "nbformat": 4,
 "nbformat_minor": 2
}
