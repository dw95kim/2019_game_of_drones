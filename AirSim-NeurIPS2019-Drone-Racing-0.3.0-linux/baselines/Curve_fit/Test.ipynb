{
 "cells": [
  {
   "cell_type": "code",
   "execution_count": 12,
   "metadata": {},
   "outputs": [],
   "source": [
    "import numpy as np\n",
    "from scipy.optimize import curve_fit"
   ]
  },
  {
   "cell_type": "code",
   "execution_count": 4,
   "metadata": {},
   "outputs": [],
   "source": [
    "f1 = open(\"tuning_1.txt\", 'r')\n",
    "f2 = open(\"tuning_2.txt\", 'r')\n",
    "f3 = open(\"tuning_3.txt\", 'r')\n",
    "f4 = open(\"tuning_4.txt\", 'r')\n",
    "f5 = open(\"tuning_5.txt\", 'r')\n",
    "\n",
    "f6 = open(\"tuning_6.txt\", 'r')\n",
    "f7 = open(\"tuning_7.txt\", 'r')\n",
    "f8 = open(\"tuning_8.txt\", 'r')\n",
    "f9 = open(\"tuning_9.txt\", 'r')\n",
    "f10 = open(\"tuning_10.txt\", 'r')"
   ]
  },
  {
   "cell_type": "code",
   "execution_count": 5,
   "metadata": {},
   "outputs": [],
   "source": [
    "lines_1 = f1.readlines()\n",
    "lines_2 = f2.readlines()\n",
    "lines_3 = f3.readlines()\n",
    "lines_4 = f4.readlines()\n",
    "lines_5 = f5.readlines()\n",
    "\n",
    "lines_6 = f6.readlines()\n",
    "lines_7 = f7.readlines()\n",
    "lines_8 = f8.readlines()\n",
    "lines_9 = f9.readlines()\n",
    "lines_10 = f10.readlines()"
   ]
  },
  {
   "cell_type": "code",
   "execution_count": 6,
   "metadata": {},
   "outputs": [],
   "source": [
    "line = [lines_1, lines_2, lines_3, lines_4, lines_5,\n",
    "       lines_6, lines_7, lines_8, lines_9, lines_10]"
   ]
  },
  {
   "cell_type": "code",
   "execution_count": 7,
   "metadata": {},
   "outputs": [],
   "source": [
    "dis = [0, 0, 0, 0, 0,\n",
    "    0, 0, 0, 0, 0,\n",
    "    0, 0, 0, 0]\n",
    "\n",
    "ang = [0, 0, 0, 0, 0,\n",
    "    0, 0, 0, 0, 0,\n",
    "    0, 0, 0, 0]"
   ]
  },
  {
   "cell_type": "code",
   "execution_count": 8,
   "metadata": {},
   "outputs": [],
   "source": [
    "for lines in line:\n",
    "    for i in range(len(lines)):\n",
    "        c = lines_1[i].split()\n",
    "        dis[i] += float(str(c[0]))\n",
    "        ang[i] += float(str(c[1][:-1]))"
   ]
  },
  {
   "cell_type": "code",
   "execution_count": 9,
   "metadata": {},
   "outputs": [],
   "source": [
    "for i in range(len(dis)):\n",
    "    dis[i] = dis[i]/len(line)\n",
    "    ang[i] = ang[i]/len(line)"
   ]
  },
  {
   "cell_type": "code",
   "execution_count": 11,
   "metadata": {},
   "outputs": [],
   "source": [
    "vel = [3, 4, 4, 4, 2, 4, 16.8, 3, 4, 4, 4, 4, 4, 4]"
   ]
  },
  {
   "cell_type": "code",
   "execution_count": 14,
   "metadata": {},
   "outputs": [],
   "source": [
    "def f(a, x, b, y):\n",
    "    f = a * x + b * y\n",
    "    return f"
   ]
  },
  {
   "cell_type": "code",
   "execution_count": 60,
   "metadata": {},
   "outputs": [
    {
     "data": {
      "text/plain": [
       "3"
      ]
     },
     "execution_count": 60,
     "metadata": {},
     "output_type": "execute_result"
    }
   ],
   "source": [
    "abs(-3)"
   ]
  },
  {
   "cell_type": "code",
   "execution_count": 65,
   "metadata": {},
   "outputs": [
    {
     "name": "stdout",
     "output_type": "stream",
     "text": [
      "0.555 -0.044000000000000004 -0.008243018740295316\n",
      "0.557 -0.04900000000000001 -0.007076632860788745\n",
      "0.559 -0.05400000000000001 -0.005910246981280842\n",
      "0.561 -0.05900000000000002 -0.004743861101772051\n",
      "0.5630000000000001 -0.06400000000000002 -0.0035774752222650363\n",
      "0.5650000000000001 -0.06900000000000002 -0.002411089342759354\n",
      "0.5670000000000001 -0.07400000000000002 -0.0012447034632501186\n",
      "0.5690000000000001 -0.07900000000000003 -7.831758374310382e-05\n",
      "0.5710000000000001 -0.08400000000000003 0.0010880682957665755\n",
      "0.5730000000000001 -0.08900000000000004 0.002254454175273146\n",
      "0.5750000000000001 -0.09400000000000004 0.0034208400547788287\n",
      "0.5770000000000001 -0.09900000000000005 0.004587225934289396\n",
      "0.5790000000000001 -0.10400000000000005 0.005753611813795079\n",
      "0.5810000000000001 -0.10900000000000006 0.006919997693304758\n",
      "0.5830000000000001 -0.11400000000000006 0.008086383572813105\n",
      "0.5850000000000001 -0.11900000000000006 0.009252769452318788\n"
     ]
    }
   ],
   "source": [
    "th = 0.1\n",
    "\n",
    "a = 0.5\n",
    "for p in range(100):\n",
    "    a += 0.001\n",
    "    b = -0.04\n",
    "    for q in range(100):\n",
    "        b -= 0.001\n",
    "        error = 0\n",
    "        for i in range(len(dis)):\n",
    "            error += (vel[i] - f(a, dis[i], b, abs(ang[i])/dis[i]))\n",
    "            \n",
    "        if (error < 0.01 and error > -0.01):\n",
    "            print(a, b, error)"
   ]
  },
  {
   "cell_type": "code",
   "execution_count": 52,
   "metadata": {},
   "outputs": [
    {
     "data": {
      "text/plain": [
       "92.93103448275863"
      ]
     },
     "execution_count": 52,
     "metadata": {},
     "output_type": "execute_result"
    }
   ],
   "source": [
    "#linear error 0.539 / 0.0058\n",
    "#quadra error 0.543 / 0.0001"
   ]
  },
  {
   "cell_type": "code",
   "execution_count": null,
   "metadata": {},
   "outputs": [],
   "source": []
  }
 ],
 "metadata": {
  "kernelspec": {
   "display_name": "Python 3",
   "language": "python",
   "name": "python3"
  },
  "language_info": {
   "codemirror_mode": {
    "name": "ipython",
    "version": 3
   },
   "file_extension": ".py",
   "mimetype": "text/x-python",
   "name": "python",
   "nbconvert_exporter": "python",
   "pygments_lexer": "ipython3",
   "version": "3.7.5"
  }
 },
 "nbformat": 4,
 "nbformat_minor": 2
}
